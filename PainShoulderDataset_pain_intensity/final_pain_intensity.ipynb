{
 "cells": [
  {
   "cell_type": "code",
   "execution_count": 2,
   "metadata": {},
   "outputs": [],
   "source": [
    "import pandas as pd\n",
    "import torch\n",
    "import torch.nn as nn\n",
    "import torchvision.transforms as transforms\n",
    "from torchvision import models\n",
    "from torchvision.models import ResNet18_Weights\n",
    "from torchmetrics import Accuracy, Precision, Recall, F1Score\n",
    "from torchmetrics.classification import ConfusionMatrix\n",
    "import torch.optim as optim\n",
    "from PIL import Image\n",
    "import numpy as np\n",
    "import os\n",
    "import time\n",
    "from tqdm import tqdm\n",
    "import warnings\n",
    "from torch.utils.data import DataLoader, Dataset\n",
    "from sklearn.model_selection import train_test_split\n",
    "\n",
    "pd.set_option('display.max_colwidth', 500)"
   ]
  },
  {
   "cell_type": "code",
   "execution_count": 3,
   "metadata": {},
   "outputs": [
    {
     "data": {
      "text/html": [
       "<div>\n",
       "<style scoped>\n",
       "    .dataframe tbody tr th:only-of-type {\n",
       "        vertical-align: middle;\n",
       "    }\n",
       "\n",
       "    .dataframe tbody tr th {\n",
       "        vertical-align: top;\n",
       "    }\n",
       "\n",
       "    .dataframe thead th {\n",
       "        text-align: right;\n",
       "    }\n",
       "</style>\n",
       "<table border=\"1\" class=\"dataframe\">\n",
       "  <thead>\n",
       "    <tr style=\"text-align: right;\">\n",
       "      <th></th>\n",
       "      <th>image_path</th>\n",
       "      <th>Pain Intensity</th>\n",
       "      <th>Pain Label</th>\n",
       "    </tr>\n",
       "  </thead>\n",
       "  <tbody>\n",
       "    <tr>\n",
       "      <th>0</th>\n",
       "      <td>Pain_Dataset_Images/064-ak064/ak064t1aaaff/ak064t1aaaff253.png</td>\n",
       "      <td>0.0</td>\n",
       "      <td>no pain</td>\n",
       "    </tr>\n",
       "    <tr>\n",
       "      <th>1</th>\n",
       "      <td>Pain_Dataset_Images/064-ak064/ak064t1aaaff/ak064t1aaaff035.png</td>\n",
       "      <td>0.0</td>\n",
       "      <td>no pain</td>\n",
       "    </tr>\n",
       "    <tr>\n",
       "      <th>2</th>\n",
       "      <td>Pain_Dataset_Images/064-ak064/ak064t1aaaff/ak064t1aaaff034.png</td>\n",
       "      <td>0.0</td>\n",
       "      <td>no pain</td>\n",
       "    </tr>\n",
       "    <tr>\n",
       "      <th>3</th>\n",
       "      <td>Pain_Dataset_Images/064-ak064/ak064t1aaaff/ak064t1aaaff252.png</td>\n",
       "      <td>0.0</td>\n",
       "      <td>no pain</td>\n",
       "    </tr>\n",
       "    <tr>\n",
       "      <th>4</th>\n",
       "      <td>Pain_Dataset_Images/064-ak064/ak064t1aaaff/ak064t1aaaff380.png</td>\n",
       "      <td>0.0</td>\n",
       "      <td>no pain</td>\n",
       "    </tr>\n",
       "  </tbody>\n",
       "</table>\n",
       "</div>"
      ],
      "text/plain": [
       "                                                       image_path  \\\n",
       "0  Pain_Dataset_Images/064-ak064/ak064t1aaaff/ak064t1aaaff253.png   \n",
       "1  Pain_Dataset_Images/064-ak064/ak064t1aaaff/ak064t1aaaff035.png   \n",
       "2  Pain_Dataset_Images/064-ak064/ak064t1aaaff/ak064t1aaaff034.png   \n",
       "3  Pain_Dataset_Images/064-ak064/ak064t1aaaff/ak064t1aaaff252.png   \n",
       "4  Pain_Dataset_Images/064-ak064/ak064t1aaaff/ak064t1aaaff380.png   \n",
       "\n",
       "   Pain Intensity Pain Label  \n",
       "0             0.0    no pain  \n",
       "1             0.0    no pain  \n",
       "2             0.0    no pain  \n",
       "3             0.0    no pain  \n",
       "4             0.0    no pain  "
      ]
     },
     "execution_count": 3,
     "metadata": {},
     "output_type": "execute_result"
    }
   ],
   "source": [
    "df = pd.read_csv('pain_dataset_label.csv')\n",
    "df.head()"
   ]
  },
  {
   "cell_type": "code",
   "execution_count": 4,
   "metadata": {},
   "outputs": [
    {
     "data": {
      "text/plain": [
       "Pain Intensity\n",
       "0.0     40029\n",
       "1.0      2909\n",
       "2.0      2351\n",
       "3.0      1412\n",
       "4.0       802\n",
       "6.0       270\n",
       "5.0       242\n",
       "8.0        79\n",
       "11.0       76\n",
       "10.0       67\n",
       "7.0        53\n",
       "12.0       48\n",
       "9.0        32\n",
       "13.0       22\n",
       "15.0        5\n",
       "14.0        1\n",
       "Name: count, dtype: int64"
      ]
     },
     "execution_count": 4,
     "metadata": {},
     "output_type": "execute_result"
    }
   ],
   "source": [
    "df['Pain Intensity'].value_counts()"
   ]
  },
  {
   "cell_type": "code",
   "execution_count": 5,
   "metadata": {},
   "outputs": [],
   "source": [
    "df['subject_id'] =  df['image_path'].str.split('/').str[1]\n",
    "df['sequence_id'] = df['image_path'].str.split('/').str[2]\n",
    "df['sequence_no'] =  df['image_path'].str.split('/').str[3].str[-7:-4]"
   ]
  },
  {
   "cell_type": "code",
   "execution_count": 6,
   "metadata": {},
   "outputs": [],
   "source": [
    "def categorize_pain(intensity):\n",
    "    if intensity == 0.0:\n",
    "        return 0\n",
    "    elif 1.0 <= intensity <= 2.0:\n",
    "        return 1\n",
    "    elif 3.0 <= intensity <= 6.0:\n",
    "        return 2\n",
    "    else:\n",
    "        return 3\n",
    "\n",
    "# Apply the function to categorize pain intensity\n",
    "df['Category'] = df['Pain Intensity'].apply(categorize_pain)"
   ]
  },
  {
   "cell_type": "code",
   "execution_count": 7,
   "metadata": {},
   "outputs": [
    {
     "data": {
      "text/plain": [
       "Category\n",
       "0    40029\n",
       "1     5260\n",
       "2     2726\n",
       "3      383\n",
       "Name: count, dtype: int64"
      ]
     },
     "execution_count": 7,
     "metadata": {},
     "output_type": "execute_result"
    }
   ],
   "source": [
    "df['Category'].value_counts()"
   ]
  },
  {
   "cell_type": "code",
   "execution_count": 9,
   "metadata": {},
   "outputs": [],
   "source": [
    "temp = pd.DataFrame(df.groupby(['subject_id', 'Pain Intensity'])['Pain Intensity'].count()).rename(columns={'Pain Intensity': 'Count'}).reset_index()"
   ]
  },
  {
   "cell_type": "code",
   "execution_count": null,
   "metadata": {},
   "outputs": [],
   "source": []
  },
  {
   "cell_type": "code",
   "execution_count": 48,
   "metadata": {},
   "outputs": [
    {
     "data": {
      "text/plain": [
       "24"
      ]
     },
     "execution_count": 48,
     "metadata": {},
     "output_type": "execute_result"
    }
   ],
   "source": [
    "# this individual has only 0 as pain intensity, which was biasing out model so removed it.\n",
    "all_individual = df['subject_id'].unique().tolist()\n",
    "all_individual = [i for i in all_individual if i != \"101-mg101\"]\n",
    "len(all_individual)"
   ]
  },
  {
   "cell_type": "code",
   "execution_count": 16,
   "metadata": {},
   "outputs": [
    {
     "name": "stdout",
     "output_type": "stream",
     "text": [
      "Total number of individuals: 24\n",
      "Number of individuals in the training set: 19\n",
      "Number of individuals in the validation set: 4\n",
      "Number of individuals in the test set: 1\n"
     ]
    }
   ],
   "source": [
    "\n",
    "print(\"Total number of individuals:\", len(all_individual))\n",
    "\n",
    "train_list, val_list = train_test_split(all_individual, test_size=0.20, random_state=42)\n",
    "val_list, test_list = train_test_split(val_list, test_size=0.20, random_state=42)\n",
    "\n",
    "print(\"Number of individuals in the training set:\", len(train_list))\n",
    "print(\"Number of individuals in the validation set:\", len(val_list))\n",
    "print(\"Number of individuals in the test set:\", len(test_list))"
   ]
  },
  {
   "cell_type": "code",
   "execution_count": 17,
   "metadata": {},
   "outputs": [
    {
     "name": "stdout",
     "output_type": "stream",
     "text": [
      "(34541, 7) (8130, 7) (2908, 7)\n"
     ]
    }
   ],
   "source": [
    "# make the traininig and validation df based on the individual\n",
    "train_df = pd.concat([df[df['subject_id'] == individual].reset_index(drop=True) \n",
    "                      for individual in train_list], axis=0).reset_index(drop=True)\n",
    "\n",
    "val_df = pd.concat([df[df['subject_id'] == individual ].reset_index(drop=True)\n",
    "                    for individual in val_list], axis=0).reset_index(drop=True)\n",
    "\n",
    "test_df = pd.concat([df[df['subject_id'] == individual].reset_index(drop=True)\n",
    "                        for individual in test_list], axis=0).reset_index(drop=True)\n",
    "print(train_df.shape, val_df.shape, test_df.shape)"
   ]
  },
  {
   "cell_type": "code",
   "execution_count": 18,
   "metadata": {},
   "outputs": [
    {
     "data": {
      "text/plain": [
       "Pain Intensity\n",
       "0.0     2453\n",
       "1.0      158\n",
       "2.0       73\n",
       "3.0       47\n",
       "5.0       42\n",
       "4.0       33\n",
       "11.0      30\n",
       "12.0      25\n",
       "13.0      18\n",
       "9.0       13\n",
       "8.0        8\n",
       "7.0        5\n",
       "6.0        2\n",
       "10.0       1\n",
       "Name: count, dtype: int64"
      ]
     },
     "execution_count": 18,
     "metadata": {},
     "output_type": "execute_result"
    }
   ],
   "source": [
    "df[df['subject_id'] == test_list[0]]['Pain Intensity'].value_counts()"
   ]
  },
  {
   "cell_type": "code",
   "execution_count": 20,
   "metadata": {},
   "outputs": [
    {
     "data": {
      "text/plain": [
       "Category\n",
       "0    2453\n",
       "1     231\n",
       "2     124\n",
       "3     100\n",
       "Name: count, dtype: int64"
      ]
     },
     "execution_count": 20,
     "metadata": {},
     "output_type": "execute_result"
    }
   ],
   "source": [
    "test_df['Category'].value_counts()"
   ]
  },
  {
   "cell_type": "code",
   "execution_count": 21,
   "metadata": {},
   "outputs": [
    {
     "data": {
      "text/plain": [
       "4"
      ]
     },
     "execution_count": 21,
     "metadata": {},
     "output_type": "execute_result"
    }
   ],
   "source": [
    "num_classes = 4\n",
    "num_classes"
   ]
  },
  {
   "cell_type": "code",
   "execution_count": 22,
   "metadata": {},
   "outputs": [],
   "source": [
    "class PainDataset(Dataset):\n",
    "    def __init__(self, dataframe, transform=None):\n",
    "        \"\"\"\n",
    "        Custom dataset class for the pain dataset.\n",
    "\n",
    "        Args:\n",
    "            dataframe (pandas.DataFrame): The dataframe containing the image paths and pain labels.\n",
    "            transform (callable, optional): Optional transform to be applied to the image. Defaults to None.\n",
    "        \"\"\"\n",
    "        self.dataframe = dataframe\n",
    "        self.transform = transform\n",
    "\n",
    "    def __len__(self):\n",
    "        \"\"\"\n",
    "        Returns the length of the dataset.\n",
    "\n",
    "        Returns:\n",
    "            int: The length of the dataset.\n",
    "        \"\"\"\n",
    "        return len(self.dataframe)\n",
    "\n",
    "    def __getitem__(self, idx):\n",
    "        \"\"\"\n",
    "        Retrieves an item from the dataset at the given index.\n",
    "\n",
    "        Args:\n",
    "            idx (int): The index of the item to retrieve.\n",
    "\n",
    "        Returns:\n",
    "            tuple: A tuple containing the image and the pain intensity label.\n",
    "        \"\"\"\n",
    "        image_path = self.dataframe.iloc[idx]['image_path']\n",
    "        image = Image.open(image_path).convert('RGB')\n",
    "        pain_intensity = self.dataframe.iloc[idx]['Category']\n",
    "\n",
    "        if self.transform:\n",
    "            image = self.transform(image)\n",
    "\n",
    "        return image, torch.tensor(pain_intensity, dtype=torch.float)"
   ]
  },
  {
   "cell_type": "code",
   "execution_count": 23,
   "metadata": {},
   "outputs": [
    {
     "data": {
      "text/html": [
       "<div>\n",
       "<style scoped>\n",
       "    .dataframe tbody tr th:only-of-type {\n",
       "        vertical-align: middle;\n",
       "    }\n",
       "\n",
       "    .dataframe tbody tr th {\n",
       "        vertical-align: top;\n",
       "    }\n",
       "\n",
       "    .dataframe thead th {\n",
       "        text-align: right;\n",
       "    }\n",
       "</style>\n",
       "<table border=\"1\" class=\"dataframe\">\n",
       "  <thead>\n",
       "    <tr style=\"text-align: right;\">\n",
       "      <th></th>\n",
       "      <th>image_path</th>\n",
       "      <th>Pain Intensity</th>\n",
       "      <th>Pain Label</th>\n",
       "      <th>subject_id</th>\n",
       "      <th>sequence_id</th>\n",
       "      <th>sequence_no</th>\n",
       "      <th>Category</th>\n",
       "    </tr>\n",
       "  </thead>\n",
       "  <tbody>\n",
       "    <tr>\n",
       "      <th>0</th>\n",
       "      <td>Pain_Dataset_Images/109-ib109/ib109t2aeaff/ib109t2aeaff114.png</td>\n",
       "      <td>0.0</td>\n",
       "      <td>no pain</td>\n",
       "      <td>109-ib109</td>\n",
       "      <td>ib109t2aeaff</td>\n",
       "      <td>114</td>\n",
       "      <td>0</td>\n",
       "    </tr>\n",
       "    <tr>\n",
       "      <th>1</th>\n",
       "      <td>Pain_Dataset_Images/109-ib109/ib109t2aeaff/ib109t2aeaff115.png</td>\n",
       "      <td>0.0</td>\n",
       "      <td>no pain</td>\n",
       "      <td>109-ib109</td>\n",
       "      <td>ib109t2aeaff</td>\n",
       "      <td>115</td>\n",
       "      <td>0</td>\n",
       "    </tr>\n",
       "    <tr>\n",
       "      <th>2</th>\n",
       "      <td>Pain_Dataset_Images/109-ib109/ib109t2aeaff/ib109t2aeaff055.png</td>\n",
       "      <td>0.0</td>\n",
       "      <td>no pain</td>\n",
       "      <td>109-ib109</td>\n",
       "      <td>ib109t2aeaff</td>\n",
       "      <td>055</td>\n",
       "      <td>0</td>\n",
       "    </tr>\n",
       "    <tr>\n",
       "      <th>3</th>\n",
       "      <td>Pain_Dataset_Images/109-ib109/ib109t2aeaff/ib109t2aeaff054.png</td>\n",
       "      <td>0.0</td>\n",
       "      <td>no pain</td>\n",
       "      <td>109-ib109</td>\n",
       "      <td>ib109t2aeaff</td>\n",
       "      <td>054</td>\n",
       "      <td>0</td>\n",
       "    </tr>\n",
       "    <tr>\n",
       "      <th>4</th>\n",
       "      <td>Pain_Dataset_Images/109-ib109/ib109t2aeaff/ib109t2aeaff022.png</td>\n",
       "      <td>0.0</td>\n",
       "      <td>no pain</td>\n",
       "      <td>109-ib109</td>\n",
       "      <td>ib109t2aeaff</td>\n",
       "      <td>022</td>\n",
       "      <td>0</td>\n",
       "    </tr>\n",
       "  </tbody>\n",
       "</table>\n",
       "</div>"
      ],
      "text/plain": [
       "                                                       image_path  \\\n",
       "0  Pain_Dataset_Images/109-ib109/ib109t2aeaff/ib109t2aeaff114.png   \n",
       "1  Pain_Dataset_Images/109-ib109/ib109t2aeaff/ib109t2aeaff115.png   \n",
       "2  Pain_Dataset_Images/109-ib109/ib109t2aeaff/ib109t2aeaff055.png   \n",
       "3  Pain_Dataset_Images/109-ib109/ib109t2aeaff/ib109t2aeaff054.png   \n",
       "4  Pain_Dataset_Images/109-ib109/ib109t2aeaff/ib109t2aeaff022.png   \n",
       "\n",
       "   Pain Intensity Pain Label subject_id   sequence_id sequence_no  Category  \n",
       "0             0.0    no pain  109-ib109  ib109t2aeaff         114         0  \n",
       "1             0.0    no pain  109-ib109  ib109t2aeaff         115         0  \n",
       "2             0.0    no pain  109-ib109  ib109t2aeaff         055         0  \n",
       "3             0.0    no pain  109-ib109  ib109t2aeaff         054         0  \n",
       "4             0.0    no pain  109-ib109  ib109t2aeaff         022         0  "
      ]
     },
     "execution_count": 23,
     "metadata": {},
     "output_type": "execute_result"
    }
   ],
   "source": [
    "train_df.head()"
   ]
  },
  {
   "cell_type": "code",
   "execution_count": 24,
   "metadata": {},
   "outputs": [],
   "source": [
    "from torchvision import transforms\n",
    "\n",
    "# Define the transform pipeline\n",
    "transform = transforms.Compose([\n",
    "    transforms.RandomResizedCrop(224, scale=(0.8, 1.0)),  # Randomly crop and resize the image\n",
    "    transforms.RandomHorizontalFlip(),  # Randomly flip the image horizontally\n",
    "    transforms.RandomRotation(10),  # Randomly rotate the image by up to 10 degrees\n",
    "    transforms.ColorJitter(brightness=0.2, contrast=0.2, saturation=0.2, hue=0.2),  # Random color jitter\n",
    "    transforms.ToTensor(),\n",
    "    transforms.Normalize(mean=[0.485, 0.456, 0.406], std=[0.229, 0.224, 0.225])\n",
    "])\n",
    "\n",
    "# Define another transform for validation/test data (without augmentation)\n",
    "transform_val = transforms.Compose([\n",
    "    transforms.Resize((224, 224)),\n",
    "    transforms.ToTensor(),\n",
    "    transforms.Normalize(mean=[0.485, 0.456, 0.406], std=[0.229, 0.224, 0.225])\n",
    "])"
   ]
  },
  {
   "cell_type": "code",
   "execution_count": 25,
   "metadata": {},
   "outputs": [
    {
     "data": {
      "text/plain": [
       "Category\n",
       "0    28169\n",
       "1     3894\n",
       "2     2269\n",
       "3      209\n",
       "Name: count, dtype: int64"
      ]
     },
     "execution_count": 25,
     "metadata": {},
     "output_type": "execute_result"
    }
   ],
   "source": [
    "train_df['Category'].value_counts()"
   ]
  },
  {
   "cell_type": "code",
   "execution_count": 26,
   "metadata": {},
   "outputs": [],
   "source": [
    "# downsample category 0 to 5000\n",
    "train_df = pd.concat([train_df[train_df['Category'] == 0].sample(5000, random_state=42),\n",
    "                      train_df[train_df['Category'] != 0]], axis=0).reset_index(drop=True)\n"
   ]
  },
  {
   "cell_type": "code",
   "execution_count": 27,
   "metadata": {},
   "outputs": [
    {
     "data": {
      "text/plain": [
       "Category\n",
       "0    5000\n",
       "1    3894\n",
       "2    2269\n",
       "3     209\n",
       "Name: count, dtype: int64"
      ]
     },
     "execution_count": 27,
     "metadata": {},
     "output_type": "execute_result"
    }
   ],
   "source": [
    "train_df['Category'].value_counts()"
   ]
  },
  {
   "cell_type": "code",
   "execution_count": 28,
   "metadata": {},
   "outputs": [],
   "source": [
    "# Create datasets and dataloaders\n",
    "train_dataset = PainDataset(train_df, transform=transform)\n",
    "val_dataset = PainDataset(val_df, transform=transform_val)\n",
    "test_dataset = PainDataset(test_df, transform=transform_val)\n",
    "\n",
    "train_loader = DataLoader(train_dataset, batch_size=32, shuffle=True)\n",
    "val_loader = DataLoader(val_dataset, batch_size=32, shuffle=False)\n",
    "test_loader = DataLoader(test_dataset, batch_size=32, shuffle=False)"
   ]
  },
  {
   "cell_type": "code",
   "execution_count": 29,
   "metadata": {},
   "outputs": [],
   "source": [
    "import torch\n",
    "\n",
    "if torch.backends.mps.is_available():\n",
    "    device = torch.device(\"mps\")\n",
    "else:\n",
    "    device = torch.device(\"cpu\")\n"
   ]
  },
  {
   "cell_type": "code",
   "execution_count": 30,
   "metadata": {},
   "outputs": [],
   "source": [
    "import torch\n",
    "import torch.nn as nn\n",
    "import torch.optim as optim\n",
    "from torchvision import models\n",
    "from torchvision.models import ResNet18_Weights\n",
    "\n",
    "# Define the CNN model with the new number of classes\n",
    "class CNNModel(nn.Module):\n",
    "    def __init__(self, num_classes=4):\n",
    "        super(CNNModel, self).__init__()\n",
    "        self.model = models.resnet18(weights=ResNet18_Weights.IMAGENET1K_V1)  # Load the pre-trained ResNet18 model\n",
    "        self.model.fc = nn.Linear(self.model.fc.in_features, num_classes)  # Replace the last fully connected layer\n",
    "    \n",
    "    def forward(self, x):\n",
    "        return self.model(x)  # Forward pass through the model\n",
    "\n",
    "# Create an instance of the CNN model\n",
    "new_model = CNNModel(num_classes=4).to(device)\n",
    "\n",
    "# using thet trainied weight of the saved model from redbound dataset\n",
    "# Load the pre-trained weights (excluding the final layer)\n",
    "pretrained_dict = torch.load('best_model_emotion_resnet.pt', weights_only=True)\n",
    "model_dict = new_model.state_dict()\n",
    "pretrained_dict = {k: v for k, v in pretrained_dict.items() if k in model_dict and 'fc' not in k}\n",
    "model_dict.update(pretrained_dict)\n",
    "new_model.load_state_dict(model_dict)\n",
    "\n",
    "# for name, param in new_model.model.named_parameters():\n",
    "#     if \"layer4\" not in name:\n",
    "#         param.requires_grad = False\n",
    "\n",
    "# # Ensure the final fully connected layer is unfrozen\n",
    "# for param in new_model.model.fc.parameters():\n",
    "#     param.requires_grad = True\n",
    "\n",
    "\n",
    "# Unfreeze all layers\n",
    "for param in new_model.model.parameters():\n",
    "    param.requires_grad = True\n"
   ]
  },
  {
   "cell_type": "code",
   "execution_count": 31,
   "metadata": {},
   "outputs": [],
   "source": [
    "class EarlyStopping:\n",
    "    def __init__(self, patience=5, delta=0, monitor='accuracy', path='checkpoint.pt'):\n",
    "        # Initialize the EarlyStopping class\n",
    "        self.patience = patience\n",
    "        self.monitor = monitor\n",
    "        self.delta = delta\n",
    "        self.counter = 0\n",
    "        self.best_score = None\n",
    "        self.early_stop = False\n",
    "        self.path = path\n",
    "\n",
    "    def __call__(self, monitor, model):\n",
    "        # Check if the monitored metric is improving\n",
    "        if self.best_score is None:\n",
    "            self.best_score = monitor\n",
    "            self.save_checkpoint(model)\n",
    "        elif monitor < self.best_score + self.delta:\n",
    "            self.counter += 1\n",
    "            print(f'EarlyStopping counter: {self.counter} out of {self.patience}')\n",
    "            if self.counter >= self.patience:\n",
    "                self.early_stop = True\n",
    "        else:\n",
    "            self.best_score = monitor\n",
    "            self.counter = 0\n",
    "            self.save_checkpoint(model)\n",
    "\n",
    "    def save_checkpoint(self, model):\n",
    "        '''Saves the model when the monitored metric improves.'''\n",
    "        # Save the model checkpoint\n",
    "        torch.save(model.state_dict(), self.path)\n",
    "        print(f'Model saved to {self.path}')"
   ]
  },
  {
   "cell_type": "code",
   "execution_count": 32,
   "metadata": {},
   "outputs": [],
   "source": [
    "def train(model, loader, optimizer, criterion, device):\n",
    "    # Set the model to train mode\n",
    "    model.train()\n",
    "    \n",
    "    # Initialize variables for tracking metrics\n",
    "    running_loss = 0.0\n",
    "    accuracy = Accuracy(task='multiclass', num_classes=num_classes).to(device)\n",
    "    precision = Precision(task='multiclass', average='macro', num_classes=num_classes).to(device)\n",
    "    recall = Recall(task='multiclass', average='macro', num_classes=num_classes).to(device)\n",
    "    f1 = F1Score(task='multiclass', average='macro', num_classes=num_classes).to(device)\n",
    "\n",
    "    # Iterate over the data loader\n",
    "    for images, labels in tqdm(loader):\n",
    "        # Move the images and labels to the device\n",
    "        images, labels = images.to(device), labels.to(device)\n",
    "\n",
    "        # Zero the gradients\n",
    "        optimizer.zero_grad()\n",
    "\n",
    "        # Forward pass\n",
    "        outputs_intensity = model(images)\n",
    "\n",
    "\n",
    "        # Calculate the loss\n",
    "        loss_pain_intensity = criterion(outputs_intensity, labels)\n",
    "\n",
    "        loss = loss_pain_intensity\n",
    "\n",
    "        # Backward pass and optimization\n",
    "        loss.backward()\n",
    "        optimizer.step()\n",
    "\n",
    "        # Update the running loss\n",
    "        running_loss += loss.item()\n",
    "\n",
    "        # Calculate the predicted labels\n",
    "        preds = torch.argmax(outputs_intensity, dim=1)\n",
    "      \n",
    "        # Update the metrics\n",
    "        accuracy.update(preds, labels)\n",
    "        precision.update(preds, labels)\n",
    "        recall.update(preds, labels)\n",
    "        f1.update(preds, labels)\n",
    "\n",
    "    # Calculate the average loss and metrics\n",
    "    avg_loss = running_loss / len(loader)\n",
    "    acc = accuracy.compute().item()\n",
    "    prec = precision.compute().item()\n",
    "    rec = recall.compute().item()\n",
    "    f1_score = f1.compute().item()\n",
    "\n",
    "    # Reset metrics for the next epoch\n",
    "    accuracy.reset()\n",
    "    precision.reset()\n",
    "    recall.reset()\n",
    "    f1.reset()\n",
    "\n",
    "    return avg_loss, acc, prec, rec, f1_score"
   ]
  },
  {
   "cell_type": "code",
   "execution_count": 33,
   "metadata": {},
   "outputs": [],
   "source": [
    "def validate(model, loader, criterion, device, confusion_matrix_=False):\n",
    "    # Set the model to evaluation mode\n",
    "    model.eval()\n",
    "    \n",
    "    # Initialize variables for tracking metrics\n",
    "    running_loss = 0.0\n",
    "    val_accuracy = Accuracy(task='multiclass', num_classes=num_classes).to(device)\n",
    "    val_precision = Precision(task='multiclass', average='macro', num_classes=num_classes).to(device)\n",
    "    val_recall = Recall(task='multiclass', average='macro', num_classes=num_classes).to(device)\n",
    "    val_f1 = F1Score(task='multiclass', average='macro', num_classes=num_classes).to(device)\n",
    "    \n",
    "    # Initialize empty lists for storing predictions and targets\n",
    "    output_list = []\n",
    "    target_list = []\n",
    "\n",
    "    # Disable gradient calculation\n",
    "    with torch.no_grad():\n",
    "        # Iterate over the data loader\n",
    "        for images, labels in loader:\n",
    "            # Move images and labels to the device\n",
    "            images, labels = images.to(device), labels.to(device)\n",
    "\n",
    "            # Forward pass\n",
    "            outputs_intensity = model(images)\n",
    "\n",
    "            # Calculate the loss\n",
    "            loss_pain_intensity = criterion(outputs_intensity, labels)\n",
    "\n",
    "            loss = loss_pain_intensity\n",
    "            running_loss += loss.item()\n",
    "            \n",
    "            # Calculate the predicted labels\n",
    "            preds = torch.argmax(outputs_intensity, dim=1)\n",
    "            \n",
    "            # Update the metrics\n",
    "            val_accuracy.update(preds, labels)\n",
    "            val_precision.update(preds, labels)\n",
    "            val_recall.update(preds, labels)\n",
    "            val_f1.update(preds, labels)\n",
    "\n",
    "            # Append predictions and targets to the lists\n",
    "            target_list.append(labels)\n",
    "            output_list.append(preds)\n",
    "\n",
    "    # Calculate the average loss and metrics\n",
    "    avg_loss = running_loss / len(loader)\n",
    "    acc = val_accuracy.compute().item()\n",
    "    prec = val_precision.compute().item()\n",
    "    rec = val_recall.compute().item()\n",
    "    f1_score = val_f1.compute().item()\n",
    "\n",
    "    # Reset metrics for the next epoch\n",
    "    val_accuracy.reset()\n",
    "    val_precision.reset()\n",
    "    val_recall.reset()\n",
    "    val_f1.reset()\n",
    "\n",
    "    if confusion_matrix_:\n",
    "        # Calculate the confusion matrix\n",
    "        bcm = ConfusionMatrix(task=\"multiclass\", num_classes=num_classes).to(device)\n",
    "        confusion_matrix_score = bcm(torch.cat(output_list), torch.cat(target_list))\n",
    "        return avg_loss, acc, prec, rec, f1_score, confusion_matrix_score\n",
    "    \n",
    "    return avg_loss, acc, prec, rec, f1_score"
   ]
  },
  {
   "cell_type": "code",
   "execution_count": 34,
   "metadata": {},
   "outputs": [],
   "source": [
    "optimizer = optim.Adam(filter(lambda p: p.requires_grad, new_model.parameters()), lr=0.001)"
   ]
  },
  {
   "cell_type": "code",
   "execution_count": 35,
   "metadata": {},
   "outputs": [
    {
     "name": "stdout",
     "output_type": "stream",
     "text": [
      "epoch starts: 0\n"
     ]
    },
    {
     "name": "stderr",
     "output_type": "stream",
     "text": [
      "100%|██████████| 356/356 [02:06<00:00,  2.81it/s]\n"
     ]
    },
    {
     "name": "stdout",
     "output_type": "stream",
     "text": [
      "Epoch 1/50\n",
      "Train Loss: 0.6641 | Train Acc: 0.7347 | Train Prec: 0.6968 | Train Rec: 0.6132 | Train F1: 0.6389\n",
      "Val Loss: 0.7556 | Val Acc: 0.7325 | Val Prec: 0.4016 | Val Rec: 0.4527 | Val F1: 0.3961\n",
      "Model saved to best_model_pain_intesity2.pt\n",
      "time taken for epoch: 2.798287069797516 minutes\n",
      "epoch starts: 1\n"
     ]
    },
    {
     "name": "stderr",
     "output_type": "stream",
     "text": [
      "100%|██████████| 356/356 [02:14<00:00,  2.64it/s]\n"
     ]
    },
    {
     "name": "stdout",
     "output_type": "stream",
     "text": [
      "Epoch 2/50\n",
      "Train Loss: 0.4229 | Train Acc: 0.8413 | Train Prec: 0.7994 | Train Rec: 0.7884 | Train F1: 0.7937\n",
      "Val Loss: 0.8550 | Val Acc: 0.6555 | Val Prec: 0.3624 | Val Rec: 0.4806 | Val F1: 0.3700\n",
      "EarlyStopping counter: 1 out of 10\n",
      "time taken for epoch: 2.9741444985071817 minutes\n",
      "epoch starts: 2\n"
     ]
    },
    {
     "name": "stderr",
     "output_type": "stream",
     "text": [
      "100%|██████████| 356/356 [02:08<00:00,  2.76it/s]\n"
     ]
    },
    {
     "name": "stdout",
     "output_type": "stream",
     "text": [
      "Epoch 3/50\n",
      "Train Loss: 0.3438 | Train Acc: 0.8706 | Train Prec: 0.8396 | Train Rec: 0.8318 | Train F1: 0.8355\n",
      "Val Loss: 0.6408 | Val Acc: 0.7669 | Val Prec: 0.4526 | Val Rec: 0.5127 | Val F1: 0.4371\n",
      "Model saved to best_model_pain_intesity2.pt\n",
      "time taken for epoch: 2.8604276816050214 minutes\n",
      "epoch starts: 3\n"
     ]
    },
    {
     "name": "stderr",
     "output_type": "stream",
     "text": [
      "100%|██████████| 356/356 [02:09<00:00,  2.75it/s]\n"
     ]
    },
    {
     "name": "stdout",
     "output_type": "stream",
     "text": [
      "Epoch 4/50\n",
      "Train Loss: 0.3030 | Train Acc: 0.8881 | Train Prec: 0.8551 | Train Rec: 0.8587 | Train F1: 0.8568\n",
      "Val Loss: 0.6915 | Val Acc: 0.7020 | Val Prec: 0.3569 | Val Rec: 0.4432 | Val F1: 0.3775\n",
      "EarlyStopping counter: 1 out of 10\n",
      "time taken for epoch: 2.908358705043793 minutes\n",
      "epoch starts: 4\n"
     ]
    },
    {
     "name": "stderr",
     "output_type": "stream",
     "text": [
      "100%|██████████| 356/356 [02:08<00:00,  2.77it/s]\n"
     ]
    },
    {
     "name": "stdout",
     "output_type": "stream",
     "text": [
      "Epoch 5/50\n",
      "Train Loss: 0.2693 | Train Acc: 0.9015 | Train Prec: 0.8759 | Train Rec: 0.8761 | Train F1: 0.8760\n",
      "Val Loss: 0.6110 | Val Acc: 0.7800 | Val Prec: 0.3773 | Val Rec: 0.4124 | Val F1: 0.3812\n",
      "EarlyStopping counter: 2 out of 10\n",
      "time taken for epoch: 2.8718340198198953 minutes\n",
      "epoch starts: 5\n"
     ]
    },
    {
     "name": "stderr",
     "output_type": "stream",
     "text": [
      "100%|██████████| 356/356 [02:11<00:00,  2.71it/s]\n"
     ]
    },
    {
     "name": "stdout",
     "output_type": "stream",
     "text": [
      "Epoch 6/50\n",
      "Train Loss: 0.2453 | Train Acc: 0.9097 | Train Prec: 0.8881 | Train Rec: 0.8833 | Train F1: 0.8857\n",
      "Val Loss: 0.7433 | Val Acc: 0.6892 | Val Prec: 0.4537 | Val Rec: 0.4466 | Val F1: 0.3944\n",
      "EarlyStopping counter: 3 out of 10\n",
      "time taken for epoch: 2.9300949335098267 minutes\n",
      "epoch starts: 6\n"
     ]
    },
    {
     "name": "stderr",
     "output_type": "stream",
     "text": [
      "100%|██████████| 356/356 [02:08<00:00,  2.78it/s]\n"
     ]
    },
    {
     "name": "stdout",
     "output_type": "stream",
     "text": [
      "Epoch 7/50\n",
      "Train Loss: 0.2237 | Train Acc: 0.9148 | Train Prec: 0.8912 | Train Rec: 0.8984 | Train F1: 0.8947\n",
      "Val Loss: 0.5927 | Val Acc: 0.7737 | Val Prec: 0.3945 | Val Rec: 0.4135 | Val F1: 0.4027\n",
      "EarlyStopping counter: 4 out of 10\n",
      "time taken for epoch: 2.8405568838119506 minutes\n",
      "epoch starts: 7\n"
     ]
    },
    {
     "name": "stderr",
     "output_type": "stream",
     "text": [
      "100%|██████████| 356/356 [02:07<00:00,  2.80it/s]\n"
     ]
    },
    {
     "name": "stdout",
     "output_type": "stream",
     "text": [
      "Epoch 8/50\n",
      "Train Loss: 0.2160 | Train Acc: 0.9191 | Train Prec: 0.8954 | Train Rec: 0.9094 | Train F1: 0.9020\n",
      "Val Loss: 0.7217 | Val Acc: 0.7169 | Val Prec: 0.3327 | Val Rec: 0.4145 | Val F1: 0.3497\n",
      "EarlyStopping counter: 5 out of 10\n",
      "time taken for epoch: 2.8274386644363405 minutes\n",
      "epoch starts: 8\n"
     ]
    },
    {
     "name": "stderr",
     "output_type": "stream",
     "text": [
      "100%|██████████| 356/356 [02:06<00:00,  2.81it/s]\n"
     ]
    },
    {
     "name": "stdout",
     "output_type": "stream",
     "text": [
      "Epoch 9/50\n",
      "Train Loss: 0.1957 | Train Acc: 0.9280 | Train Prec: 0.9019 | Train Rec: 0.9035 | Train F1: 0.9027\n",
      "Val Loss: 0.5984 | Val Acc: 0.7710 | Val Prec: 0.3530 | Val Rec: 0.3556 | Val F1: 0.3521\n",
      "EarlyStopping counter: 6 out of 10\n",
      "time taken for epoch: 2.813534315427144 minutes\n",
      "epoch starts: 9\n"
     ]
    },
    {
     "name": "stderr",
     "output_type": "stream",
     "text": [
      "100%|██████████| 356/356 [02:07<00:00,  2.79it/s]\n"
     ]
    },
    {
     "name": "stdout",
     "output_type": "stream",
     "text": [
      "Epoch 10/50\n",
      "Train Loss: 0.1897 | Train Acc: 0.9288 | Train Prec: 0.9118 | Train Rec: 0.9190 | Train F1: 0.9154\n",
      "Val Loss: 0.8201 | Val Acc: 0.7408 | Val Prec: 0.3727 | Val Rec: 0.4437 | Val F1: 0.3940\n",
      "EarlyStopping counter: 7 out of 10\n",
      "time taken for epoch: 2.8483180006345115 minutes\n",
      "epoch starts: 10\n"
     ]
    },
    {
     "name": "stderr",
     "output_type": "stream",
     "text": [
      "100%|██████████| 356/356 [02:10<00:00,  2.74it/s]\n"
     ]
    },
    {
     "name": "stdout",
     "output_type": "stream",
     "text": [
      "Epoch 11/50\n",
      "Train Loss: 0.1718 | Train Acc: 0.9359 | Train Prec: 0.9098 | Train Rec: 0.9256 | Train F1: 0.9174\n",
      "Val Loss: 0.7269 | Val Acc: 0.7448 | Val Prec: 0.3530 | Val Rec: 0.4025 | Val F1: 0.3605\n",
      "EarlyStopping counter: 8 out of 10\n",
      "time taken for epoch: 2.878429051240285 minutes\n",
      "epoch starts: 11\n"
     ]
    },
    {
     "name": "stderr",
     "output_type": "stream",
     "text": [
      "100%|██████████| 356/356 [02:11<00:00,  2.71it/s]\n"
     ]
    },
    {
     "name": "stdout",
     "output_type": "stream",
     "text": [
      "Epoch 12/50\n",
      "Train Loss: 0.1652 | Train Acc: 0.9391 | Train Prec: 0.9183 | Train Rec: 0.9248 | Train F1: 0.9215\n",
      "Val Loss: 0.6986 | Val Acc: 0.7642 | Val Prec: 0.3204 | Val Rec: 0.3162 | Val F1: 0.3134\n",
      "EarlyStopping counter: 9 out of 10\n",
      "time taken for epoch: 2.900397952397664 minutes\n",
      "epoch starts: 12\n"
     ]
    },
    {
     "name": "stderr",
     "output_type": "stream",
     "text": [
      "100%|██████████| 356/356 [02:15<00:00,  2.64it/s]\n"
     ]
    },
    {
     "name": "stdout",
     "output_type": "stream",
     "text": [
      "Epoch 13/50\n",
      "Train Loss: 0.1636 | Train Acc: 0.9368 | Train Prec: 0.9124 | Train Rec: 0.9229 | Train F1: 0.9175\n",
      "Val Loss: 1.1820 | Val Acc: 0.8006 | Val Prec: 0.6020 | Val Rec: 0.3239 | Val F1: 0.3360\n",
      "EarlyStopping counter: 10 out of 10\n",
      "Early stopping\n"
     ]
    }
   ],
   "source": [
    "# Training loop\n",
    "num_epochs = 50\n",
    "# Define the criterion for calculating the loss\n",
    "criterion = nn.CrossEntropyLoss()\n",
    "\n",
    "# Define the optimizer for updating the model parameters\n",
    "# optimizer = optim.Adam(new_model.parameters(), lr=0.001)\n",
    "optimizer = optim.Adam(filter(lambda p: p.requires_grad, new_model.parameters()), lr=0.001)\n",
    "\n",
    "\n",
    "\n",
    "patience = 5\n",
    "early_stopping = EarlyStopping(patience=10, delta=0.0000001, monitor='val_f1_score', path='best_model_pain_intesity2.pt')\n",
    "\n",
    "start_time = 0\n",
    "end_time = 0\n",
    "training_losses = []\n",
    "validation_losses = []\n",
    "\n",
    "training_accuracies = []\n",
    "validation_accuracies = []\n",
    "\n",
    "training_f1_scores = []\n",
    "validation_f1_scores = []\n",
    "\n",
    "training_precisions = []\n",
    "validation_precisions = []\n",
    "\n",
    "for epoch in range(num_epochs):\n",
    "    print('epoch starts:', epoch)\n",
    "    start_time = time.time()\n",
    "    \n",
    "    # Train the model\n",
    "    train_loss, train_acc, train_prec, train_rec, train_f1_score = train(new_model, train_loader, optimizer, criterion, device)\n",
    "    \n",
    "    # Validate the model\n",
    "    val_loss, val_acc, val_prec, val_rec, val_f1_score = validate(new_model, val_loader, criterion, device)\n",
    "\n",
    "    # Append the losses and metrics to the respective lists\n",
    "    training_losses.append(train_loss)\n",
    "    validation_losses.append(val_loss)\n",
    "\n",
    "    training_accuracies.append(train_acc)\n",
    "    validation_accuracies.append(val_acc)\n",
    "\n",
    "    training_f1_scores.append(train_f1_score)\n",
    "    validation_f1_scores.append(val_f1_score)\n",
    "\n",
    "    training_precisions.append(train_prec)\n",
    "    validation_precisions.append(val_prec)\n",
    "\n",
    "    # Print the epoch number and metrics\n",
    "    print(f\"Epoch {epoch+1}/{num_epochs}\")\n",
    "    print(f\"Train Loss: {train_loss:.4f} | Train Acc: {train_acc:.4f} | Train Prec: {train_prec:.4f} | Train Rec: {train_rec:.4f} | Train F1: {train_f1_score:.4f}\")\n",
    "    print(f\"Val Loss: {val_loss:.4f} | Val Acc: {val_acc:.4f} | Val Prec: {val_prec:.4f} | Val Rec: {val_rec:.4f} | Val F1: {val_f1_score:.4f}\")\n",
    "\n",
    "    # Check for early stopping\n",
    "    early_stopping(val_f1_score, new_model)\n",
    "\n",
    "    if early_stopping.early_stop:\n",
    "        print(\"Early stopping\")\n",
    "        break   \n",
    "    end_time = time.time()\n",
    "    print('time taken for epoch:', (end_time-start_time)/60, 'minutes')"
   ]
  },
  {
   "cell_type": "code",
   "execution_count": 36,
   "metadata": {},
   "outputs": [],
   "source": [
    "import matplotlib.pyplot as plt"
   ]
  },
  {
   "cell_type": "code",
   "execution_count": 37,
   "metadata": {},
   "outputs": [
    {
     "data": {
      "image/png": "[encoded data removed]",
      "text/plain": [
       "<Figure size 640x480 with 1 Axes>"
      ]
     },
     "metadata": {},
     "output_type": "display_data"
    }
   ],
   "source": [
    "# Plot the training and validation accuracies\n",
    "plt.plot(training_accuracies, label='Train')\n",
    "plt.plot(validation_accuracies, label='Validation')\n",
    "plt.title('Accuracy Vs Epoch')\n",
    "plt.xlabel('Epoch')\n",
    "plt.ylabel('Accuracy')\n",
    "plt.legend()\n",
    "plt.show()"
   ]
  },
  {
   "cell_type": "code",
   "execution_count": 38,
   "metadata": {},
   "outputs": [
    {
     "data": {
      "image/png": "[encoded data removed]",
      "text/plain": [
       "<Figure size 640x480 with 1 Axes>"
      ]
     },
     "metadata": {},
     "output_type": "display_data"
    }
   ],
   "source": [
    "# Plot the training and validation losses\n",
    "plt.plot(training_losses, label='Training Loss')\n",
    "plt.plot(validation_losses, label='Validation Loss')\n",
    "plt.xlabel('Epoch')\n",
    "plt.ylabel('Loss')\n",
    "plt.title('Training and Validation Loss')\n",
    "plt.legend()\n",
    "plt.show()"
   ]
  },
  {
   "cell_type": "code",
   "execution_count": 39,
   "metadata": {},
   "outputs": [
    {
     "data": {
      "image/png": "[encoded data removed]",
      "text/plain": [
       "<Figure size 640x480 with 1 Axes>"
      ]
     },
     "metadata": {},
     "output_type": "display_data"
    }
   ],
   "source": [
    "# Plot the training and validation losses\n",
    "plt.plot(training_f1_scores, label='Training f1-score')\n",
    "plt.plot(validation_f1_scores, label='Validation f1-score')\n",
    "plt.xlabel('Epoch')\n",
    "plt.ylabel('Loss')\n",
    "plt.title('Training and Validation f1-score')\n",
    "plt.legend()\n",
    "plt.show()"
   ]
  },
  {
   "cell_type": "code",
   "execution_count": 40,
   "metadata": {},
   "outputs": [
    {
     "name": "stderr",
     "output_type": "stream",
     "text": [
      "/var/folders/jg/sz0fr37166zb_s69987d9z280000gn/T/ipykernel_53473/184455624.py:2: FutureWarning: You are using `torch.load` with `weights_only=False` (the current default value), which uses the default pickle module implicitly. It is possible to construct malicious pickle data which will execute arbitrary code during unpickling (See https://github.com/pytorch/pytorch/blob/main/SECURITY.md#untrusted-models for more details). In a future release, the default value for `weights_only` will be flipped to `True`. This limits the functions that could be executed during unpickling. Arbitrary objects will no longer be allowed to be loaded via this mode unless they are explicitly allowlisted by the user via `torch.serialization.add_safe_globals`. We recommend you start setting `weights_only=True` for any use case where you don't have full control of the loaded file. Please open an issue on GitHub for any issues related to this experimental feature.\n",
      "  loaded_model.load_state_dict(torch.load('best_model_pain_intesity2.pt'))\n"
     ]
    },
    {
     "data": {
      "text/plain": [
       "<All keys matched successfully>"
      ]
     },
     "execution_count": 40,
     "metadata": {},
     "output_type": "execute_result"
    }
   ],
   "source": [
    "loaded_model = CNNModel(num_classes=4).to(device)\n",
    "loaded_model.load_state_dict(torch.load('best_model_pain_intesity2.pt')) "
   ]
  },
  {
   "cell_type": "code",
   "execution_count": 41,
   "metadata": {},
   "outputs": [
    {
     "name": "stdout",
     "output_type": "stream",
     "text": [
      "Validation Loss: 0.6408 | Validation Acc: 0.7669 | Validation Prec: 0.4526 | Validation Rec: 0.5127 | Validation F1: 0.4371\n"
     ]
    }
   ],
   "source": [
    "# final evaluation\n",
    "val_loss, val_acc, val_prec, val_rec, val_f1_score, cf = validate(loaded_model, val_loader, \n",
    "                                                              criterion, \n",
    "                                                              device, confusion_matrix_=True)\n",
    "print(f\"Validation Loss: {val_loss:.4f} | Validation Acc: {val_acc:.4f} | Validation Prec: {val_prec:.4f} | Validation Rec: {val_rec:.4f} | Validation F1: {val_f1_score:.4f}\")\n"
   ]
  },
  {
   "cell_type": "code",
   "execution_count": 42,
   "metadata": {},
   "outputs": [],
   "source": [
    "class_dict = {\n",
    "            'No pain': 0,\n",
    "            'Low pain': 1,\n",
    "            'Moderate pain': 2,\n",
    "            'High pain': 3\n",
    "        }\n"
   ]
  },
  {
   "cell_type": "code",
   "execution_count": 43,
   "metadata": {},
   "outputs": [],
   "source": [
    "import seaborn as sns"
   ]
  },
  {
   "cell_type": "code",
   "execution_count": 44,
   "metadata": {},
   "outputs": [
    {
     "data": {
      "image/png": "[encoded data removed]",
      "text/plain": [
       "<Figure size 640x480 with 2 Axes>"
      ]
     },
     "metadata": {},
     "output_type": "display_data"
    }
   ],
   "source": [
    "# Assuming class_dict is a dictionary with class names as keys\n",
    "class_names = list(class_dict.keys())\n",
    "\n",
    "cf_matrix = cf.cpu().numpy()\n",
    "# Create the heatmap with class names\n",
    "sns.heatmap(cf_matrix, annot=True, fmt='d', cmap='Blues', xticklabels=class_names, yticklabels=class_names)\n",
    "plt.xlabel('Predicted')\n",
    "plt.ylabel('Actual')\n",
    "plt.title('Confusion Matrix')\n",
    "plt.show()"
   ]
  },
  {
   "cell_type": "code",
   "execution_count": 45,
   "metadata": {},
   "outputs": [
    {
     "data": {
      "text/plain": [
       "Category\n",
       "0    2453\n",
       "1     231\n",
       "2     124\n",
       "3     100\n",
       "Name: count, dtype: int64"
      ]
     },
     "execution_count": 45,
     "metadata": {},
     "output_type": "execute_result"
    }
   ],
   "source": [
    "test_df['Category'].value_counts()"
   ]
  },
  {
   "cell_type": "code",
   "execution_count": 46,
   "metadata": {},
   "outputs": [
    {
     "name": "stdout",
     "output_type": "stream",
     "text": [
      "Test Loss: 0.3480 | Test Acc: 0.8655 | Test Prec: 0.6302 | Test Rec: 0.5067 | Test F1: 0.4785\n"
     ]
    }
   ],
   "source": [
    "\n",
    "test_loss, test_acc, test_prec, test_rec, test_f1_score, cf = validate(loaded_model, test_loader, criterion, device, confusion_matrix_=True)\n",
    "print(f\"Test Loss: {test_loss:.4f} | Test Acc: {test_acc:.4f} | Test Prec: {test_prec:.4f} | Test Rec: {test_rec:.4f} | Test F1: {test_f1_score:.4f}\")"
   ]
  },
  {
   "cell_type": "code",
   "execution_count": 47,
   "metadata": {},
   "outputs": [
    {
     "data": {
      "image/png": "[encoded data removed]",
      "text/plain": [
       "<Figure size 640x480 with 2 Axes>"
      ]
     },
     "metadata": {},
     "output_type": "display_data"
    }
   ],
   "source": [
    "# Assuming class_dict is a dictionary with class names as keys\n",
    "class_names = list(class_dict.keys())\n",
    "\n",
    "cf_matrix = cf.cpu().numpy()\n",
    "# Create the heatmap with class names\n",
    "sns.heatmap(cf_matrix, annot=True, fmt='d', cmap='Blues', xticklabels=class_names, yticklabels=class_names)\n",
    "plt.xlabel('Predicted')\n",
    "plt.ylabel('Actual')\n",
    "plt.title('Confusion Matrix - Test Set')\n",
    "plt.show()"
   ]
  },
  {
   "cell_type": "code",
   "execution_count": null,
   "metadata": {},
   "outputs": [],
   "source": []
  }
 ],
 "metadata": {
  "kernelspec": {
   "display_name": "base",
   "language": "python",
   "name": "python3"
  },
  "language_info": {
   "codemirror_mode": {
    "name": "ipython",
    "version": 3
   },
   "file_extension": ".py",
   "mimetype": "text/x-python",
   "name": "python",
   "nbconvert_exporter": "python",
   "pygments_lexer": "ipython3",
   "version": "3.11.0"
  }
 },
 "nbformat": 4,
 "nbformat_minor": 2
}
